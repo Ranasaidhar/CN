{
 "cells": [
  {
   "cell_type": "code",
   "execution_count": 1,
   "metadata": {},
   "outputs": [
    {
     "name": "stdout",
     "output_type": "stream",
     "text": [
      "<mysql.connector.connection.MySQLConnection object at 0x000001DA10399F60>\n"
     ]
    }
   ],
   "source": [
    "import mysql.connector\n",
    "myconn=mysql.connector.connect(host=\"localhost\",user=\"root\",password=\"\")\n",
    "print(myconn)"
   ]
  },
  {
   "cell_type": "code",
   "execution_count": 2,
   "metadata": {},
   "outputs": [
    {
     "name": "stdout",
     "output_type": "stream",
     "text": [
      "('19261a0540',)\n",
      "('509sang',)\n",
      "('540',)\n",
      "('568',)\n",
      "('598',)\n",
      "('5f8surya',)\n",
      "('c8db',)\n",
      "('db08',)\n",
      "('dbc8',)\n",
      "('g4db',)\n",
      "('hello',)\n",
      "('information_schema',)\n",
      "('jit',)\n",
      "('kore',)\n",
      "('login',)\n",
      "('mgit',)\n",
      "('mok',)\n",
      "('munni',)\n",
      "('mydb',)\n",
      "('mydb1',)\n",
      "('mydb100',)\n",
      "('mydb111',)\n",
      "('mydb2',)\n",
      "('mydb5a5',)\n",
      "('mydb7',)\n",
      "('mysql',)\n",
      "('performance_schema',)\n",
      "('phpmyadmin',)\n",
      "('ranadb',)\n",
      "('run',)\n",
      "('shiv0505',)\n",
      "('t',)\n",
      "('test',)\n",
      "('testdb',)\n"
     ]
    }
   ],
   "source": [
    "import mysql.connector\n",
    "myconn=mysql.connector.connect(host=\"localhost\",user=\"root\",password=\"\")\n",
    "cur=myconn.cursor()\n",
    "cur.execute(\"show databases\")\n",
    "for x in cur:\n",
    "    print(x)\n",
    "myconn.close()"
   ]
  },
  {
   "cell_type": "code",
   "execution_count": null,
   "metadata": {},
   "outputs": [],
   "source": []
  }
 ],
 "metadata": {
  "kernelspec": {
   "display_name": "Python 3",
   "language": "python",
   "name": "python3"
  },
  "language_info": {
   "codemirror_mode": {
    "name": "ipython",
    "version": 3
   },
   "file_extension": ".py",
   "mimetype": "text/x-python",
   "name": "python",
   "nbconvert_exporter": "python",
   "pygments_lexer": "ipython3",
   "version": "3.7.3"
  }
 },
 "nbformat": 4,
 "nbformat_minor": 2
}
